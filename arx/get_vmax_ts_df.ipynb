{
 "cells": [
  {
   "cell_type": "code",
   "execution_count": null,
   "metadata": {},
   "outputs": [],
   "source": [
    "import os, glob\n",
    "import numpy as np\n",
    "from matplotlib import pyplot as plt\n",
    "import pandas as pd\n",
    "import wrftools as wrf\n",
    "# import importlib\n",
    "# importlib.reload(wrf)"
   ]
  },
  {
   "cell_type": "code",
   "execution_count": null,
   "metadata": {},
   "outputs": [],
   "source": [
    "def get_Pbar(Pr,r): #exact dicrete mean P (within radius r)\n",
    "    Par0=Pr[0]*r[0]**2\n",
    "    Par=Pr[1:]*(r[1:]**2-r[:-1]**2)\n",
    "    return(np.cumsum(np.insert(Par,0,Par0))/(r**2))\n",
    "    \n",
    "def get_row(fname,run):\n",
    "    V10max,rV10max,zmax,t=wrf.wrf2max(run,fname,'V')\n",
    "    vt10max,rvt10max,zmax,t=wrf.wrf2max(run,fname,'vt')\n",
    "    Pmin,rPmin,Pzmin,t=wrf.wrf2max(run,fname,'P',minim=True)\n",
    "    Pr=wrf.getWRF(wrf.wopath(run,fname),'P','az',force=False)\n",
    "    Vt=wrf.getWRF(wrf.wopath(run,fname),'vt','az',force=False)\n",
    "    r=wrf.getRcoord(wrf.wopath(run,fname))\n",
    "    dr=r[1]-r[0]\n",
    "    Pbar=get_Pbar(Pr,r)\n",
    "    row = pd.Series({\n",
    "        't':t,'vt10max':vt10max,'rvt10max':rvt10max,'V10max':V10max,'rV10max':rV10max,\\\n",
    "        'pmin':Pmin,'Pr':Pr,'Pbar':Pbar,'r':r,'Vt10':Vt\n",
    "    })\n",
    "    return(row)\n",
    "    \n",
    "def get_run_max_df(flist,run):\n",
    "    df = pd.DataFrame(columns=['t','vt10max','rvt10max','V10max','rV10max','pmin','Pr','Pbar','r','Vt10'])\n",
    "    for fname in flist:\n",
    "        print(fname)\n",
    "        df=df.append(get_row(fname,run),ignore_index=True)\n",
    "    return(df)"
   ]
  },
  {
   "cell_type": "code",
   "execution_count": null,
   "metadata": {},
   "outputs": [],
   "source": [
    "dpath='../run'\n",
    "fname='wrfout_d03_*'\n",
    "tlist=['03','04','05','06','07','08','09','10','11','12','13']\n",
    "runlist=['run_land_dry_t' + t + '' for t in tlist]\n",
    "# runlist=['run_CTRL_rr']\n",
    "runlist\n",
    "\n",
    "for run in runlist:\n",
    "    wolist=wrf.wolist(run)[:24*15]\n",
    "    df=get_run_max_df(wolist,run)\n",
    "    sname='rundf/df_' + run + '.pkl'\n",
    "    print(df)\n",
    "    df.to_pickle(sname,protocol=4)"
   ]
  }
 ],
 "metadata": {
  "kernelspec": {
   "display_name": "Python [conda env:itc]",
   "language": "python",
   "name": "conda-env-itc-py"
  },
  "language_info": {
   "codemirror_mode": {
    "name": "ipython",
    "version": 3
   },
   "file_extension": ".py",
   "mimetype": "text/x-python",
   "name": "python",
   "nbconvert_exporter": "python",
   "pygments_lexer": "ipython3",
   "version": "3.8.5"
  }
 },
 "nbformat": 4,
 "nbformat_minor": 4
}
