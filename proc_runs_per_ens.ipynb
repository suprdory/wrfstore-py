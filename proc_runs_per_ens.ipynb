{
 "cells": [
  {
   "cell_type": "code",
   "execution_count": null,
   "metadata": {},
   "outputs": [],
   "source": [
    "# processing chain, per ensemble\n",
    "# 1. basic hourly stats + key radial profiles. Bespoke precip processing (cumulative to hourly)\n",
    "# 2. interpolate and differencing to get get intermediate steps (offset by half hour)\n",
    "# 3. linearized intermediate steps, each radial coord now has a row, for convenient filtering\n",
    "# 4. decay stats..."
   ]
  },
  {
   "cell_type": "code",
   "execution_count": 2,
   "metadata": {},
   "outputs": [],
   "source": [
    "import os, glob\n",
    "import wrftools as wrf\n",
    "import wrfproc as wp\n",
    "import pandas as pd\n",
    "import numpy as np\n",
    "import importlib\n",
    "importlib.reload(wrf)\n",
    "importlib.reload(wp)\n",
    "\n",
    "dfpathroot='dfs'\n",
    "runpath='../run/'"
   ]
  },
  {
   "cell_type": "code",
   "execution_count": 15,
   "metadata": {},
   "outputs": [
    {
     "data": {
      "text/plain": [
       "['run_02_land_t03',\n",
       " 'run_02_land_t04',\n",
       " 'run_02_land_t05',\n",
       " 'run_02_land_t06',\n",
       " 'run_02_land_t07',\n",
       " 'run_02_land_t08',\n",
       " 'run_02_land_t09',\n",
       " 'run_02_land_t10',\n",
       " 'run_02_land_t11',\n",
       " 'run_02_land_t12',\n",
       " 'run_02_land_t13',\n",
       " 'run_02_land_t14',\n",
       " 'run_02_land_t15']"
      ]
     },
     "execution_count": 15,
     "metadata": {},
     "output_type": "execute_result"
    }
   ],
   "source": [
    "# set up run list, max run length, and run save name\n",
    "\n",
    "runpat='run_02_land_t*'\n",
    "runsname='run_02_land'\n",
    "nmax=30\n",
    "\n",
    "# runpat='run_02_CTRL'\n",
    "# runsname='run_02_CTRL'\n",
    "# nmax=24*15\n",
    "\n",
    "runlist=[os.path.basename(p) for p in sorted(glob.glob(os.path.join(runpath,runpat)))]\n",
    "runlist"
   ]
  },
  {
   "cell_type": "code",
   "execution_count": 16,
   "metadata": {},
   "outputs": [
    {
     "name": "stdout",
     "output_type": "stream",
     "text": [
      "run_02_land_t03\n",
      "wrfout_d03_2007-09-03_00:00:00\n",
      "wrfout_d03_2007-09-03_01:00:00\n",
      "wrfout_d03_2007-09-03_02:00:00\n",
      "wrfout_d03_2007-09-03_03:00:00\n"
     ]
    },
    {
     "ename": "KeyboardInterrupt",
     "evalue": "",
     "output_type": "error",
     "traceback": [
      "\u001b[0;31m---------------------------------------------------------------------------\u001b[0m",
      "\u001b[0;31mKeyboardInterrupt\u001b[0m                         Traceback (most recent call last)",
      "\u001b[0;32m<ipython-input-16-876628c2bd08>\u001b[0m in \u001b[0;36m<module>\u001b[0;34m\u001b[0m\n\u001b[1;32m      6\u001b[0m     \u001b[0mprint\u001b[0m\u001b[0;34m(\u001b[0m\u001b[0mrun\u001b[0m\u001b[0;34m)\u001b[0m\u001b[0;34m\u001b[0m\u001b[0;34m\u001b[0m\u001b[0m\n\u001b[1;32m      7\u001b[0m     \u001b[0mwolist\u001b[0m\u001b[0;34m=\u001b[0m\u001b[0mwrf\u001b[0m\u001b[0;34m.\u001b[0m\u001b[0mwolist\u001b[0m\u001b[0;34m(\u001b[0m\u001b[0mrun\u001b[0m\u001b[0;34m)\u001b[0m\u001b[0;34m[\u001b[0m\u001b[0;34m:\u001b[0m\u001b[0mnmax\u001b[0m\u001b[0;34m+\u001b[0m\u001b[0;36m1\u001b[0m\u001b[0;34m]\u001b[0m\u001b[0;34m\u001b[0m\u001b[0;34m\u001b[0m\u001b[0m\n\u001b[0;32m----> 8\u001b[0;31m     \u001b[0mdf\u001b[0m\u001b[0;34m=\u001b[0m\u001b[0mwp\u001b[0m\u001b[0;34m.\u001b[0m\u001b[0mget_run_max_df\u001b[0m\u001b[0;34m(\u001b[0m\u001b[0mwolist\u001b[0m\u001b[0;34m,\u001b[0m\u001b[0mrun\u001b[0m\u001b[0;34m,\u001b[0m\u001b[0mforce\u001b[0m\u001b[0;34m=\u001b[0m\u001b[0;32mFalse\u001b[0m\u001b[0;34m)\u001b[0m\u001b[0;34m\u001b[0m\u001b[0;34m\u001b[0m\u001b[0m\n\u001b[0m\u001b[1;32m      9\u001b[0m     \u001b[0mdf\u001b[0m\u001b[0;34m=\u001b[0m\u001b[0mwp\u001b[0m\u001b[0;34m.\u001b[0m\u001b[0mproc_precip\u001b[0m\u001b[0;34m(\u001b[0m\u001b[0mdf\u001b[0m\u001b[0;34m)\u001b[0m\u001b[0;34m\u001b[0m\u001b[0;34m\u001b[0m\u001b[0m\n\u001b[1;32m     10\u001b[0m     \u001b[0mdfs\u001b[0m\u001b[0;34m.\u001b[0m\u001b[0mappend\u001b[0m\u001b[0;34m(\u001b[0m\u001b[0mdf\u001b[0m\u001b[0;34m)\u001b[0m\u001b[0;34m\u001b[0m\u001b[0;34m\u001b[0m\u001b[0m\n",
      "\u001b[0;32m/net/wrfstore6/disk1/nsparks/itc/python/wrfproc.py\u001b[0m in \u001b[0;36mget_run_max_df\u001b[0;34m(flist, run, force)\u001b[0m\n\u001b[1;32m     72\u001b[0m     \u001b[0;32mfor\u001b[0m \u001b[0mfname\u001b[0m \u001b[0;32min\u001b[0m \u001b[0mflist\u001b[0m\u001b[0;34m:\u001b[0m\u001b[0;34m\u001b[0m\u001b[0;34m\u001b[0m\u001b[0m\n\u001b[1;32m     73\u001b[0m         \u001b[0mprint\u001b[0m\u001b[0;34m(\u001b[0m\u001b[0mfname\u001b[0m\u001b[0;34m)\u001b[0m\u001b[0;34m\u001b[0m\u001b[0;34m\u001b[0m\u001b[0m\n\u001b[0;32m---> 74\u001b[0;31m         \u001b[0mrows\u001b[0m\u001b[0;34m.\u001b[0m\u001b[0mappend\u001b[0m\u001b[0;34m(\u001b[0m\u001b[0mget_row\u001b[0m\u001b[0;34m(\u001b[0m\u001b[0mfname\u001b[0m\u001b[0;34m,\u001b[0m\u001b[0mrun\u001b[0m\u001b[0;34m,\u001b[0m\u001b[0mforce\u001b[0m\u001b[0;34m)\u001b[0m\u001b[0;34m)\u001b[0m\u001b[0;34m\u001b[0m\u001b[0;34m\u001b[0m\u001b[0m\n\u001b[0m\u001b[1;32m     75\u001b[0m     \u001b[0mdf\u001b[0m\u001b[0;34m=\u001b[0m\u001b[0mpd\u001b[0m\u001b[0;34m.\u001b[0m\u001b[0mDataFrame\u001b[0m\u001b[0;34m(\u001b[0m\u001b[0mrows\u001b[0m\u001b[0;34m)\u001b[0m\u001b[0;34m\u001b[0m\u001b[0;34m\u001b[0m\u001b[0m\n\u001b[1;32m     76\u001b[0m     \u001b[0;32mreturn\u001b[0m\u001b[0;34m(\u001b[0m\u001b[0mdf\u001b[0m\u001b[0;34m)\u001b[0m\u001b[0;34m\u001b[0m\u001b[0;34m\u001b[0m\u001b[0m\n",
      "\u001b[0;32m/net/wrfstore6/disk1/nsparks/itc/python/wrfproc.py\u001b[0m in \u001b[0;36mget_row\u001b[0;34m(fname, run, force)\u001b[0m\n\u001b[1;32m     47\u001b[0m     \u001b[0mPmin\u001b[0m\u001b[0;34m,\u001b[0m\u001b[0mrPmin\u001b[0m\u001b[0;34m,\u001b[0m\u001b[0mPzmin\u001b[0m\u001b[0;34m,\u001b[0m\u001b[0mt\u001b[0m\u001b[0;34m=\u001b[0m\u001b[0mwrf\u001b[0m\u001b[0;34m.\u001b[0m\u001b[0mwrf2max\u001b[0m\u001b[0;34m(\u001b[0m\u001b[0mfpath\u001b[0m\u001b[0;34m,\u001b[0m\u001b[0;34m'P'\u001b[0m\u001b[0;34m,\u001b[0m\u001b[0mminim\u001b[0m\u001b[0;34m=\u001b[0m\u001b[0;32mTrue\u001b[0m\u001b[0;34m,\u001b[0m\u001b[0mforce\u001b[0m\u001b[0;34m=\u001b[0m\u001b[0mforce\u001b[0m\u001b[0;34m)\u001b[0m\u001b[0;34m\u001b[0m\u001b[0;34m\u001b[0m\u001b[0m\n\u001b[1;32m     48\u001b[0m \u001b[0;34m\u001b[0m\u001b[0m\n\u001b[0;32m---> 49\u001b[0;31m     \u001b[0mtrst\u001b[0m\u001b[0;34m=\u001b[0m\u001b[0mwrf\u001b[0m\u001b[0;34m.\u001b[0m\u001b[0mgetElapsedDays\u001b[0m\u001b[0;34m(\u001b[0m\u001b[0mfpath\u001b[0m\u001b[0;34m,\u001b[0m\u001b[0mrst\u001b[0m\u001b[0;34m=\u001b[0m\u001b[0;32mTrue\u001b[0m\u001b[0;34m)\u001b[0m\u001b[0;34m\u001b[0m\u001b[0;34m\u001b[0m\u001b[0m\n\u001b[0m\u001b[1;32m     50\u001b[0m     \u001b[0mtlf\u001b[0m\u001b[0;34m=\u001b[0m\u001b[0mnp\u001b[0m\u001b[0;34m.\u001b[0m\u001b[0mround\u001b[0m\u001b[0;34m(\u001b[0m\u001b[0mt\u001b[0m\u001b[0;34m-\u001b[0m\u001b[0mtrst\u001b[0m\u001b[0;34m,\u001b[0m\u001b[0;36m5\u001b[0m\u001b[0;34m)\u001b[0m\u001b[0;34m\u001b[0m\u001b[0;34m\u001b[0m\u001b[0m\n\u001b[1;32m     51\u001b[0m     \u001b[0mPr\u001b[0m\u001b[0;34m=\u001b[0m\u001b[0mwrf\u001b[0m\u001b[0;34m.\u001b[0m\u001b[0mgetWRF\u001b[0m\u001b[0;34m(\u001b[0m\u001b[0mfpath\u001b[0m\u001b[0;34m,\u001b[0m\u001b[0;34m'P'\u001b[0m\u001b[0;34m,\u001b[0m\u001b[0;34m'az'\u001b[0m\u001b[0;34m,\u001b[0m\u001b[0mforce\u001b[0m\u001b[0;34m=\u001b[0m\u001b[0mforce\u001b[0m\u001b[0;34m)\u001b[0m\u001b[0;34m\u001b[0m\u001b[0;34m\u001b[0m\u001b[0m\n",
      "\u001b[0;32m/net/wrfstore6/disk1/nsparks/itc/python/wrftools.py\u001b[0m in \u001b[0;36mgetElapsedDays\u001b[0;34m(fpath, rst)\u001b[0m\n\u001b[1;32m    295\u001b[0m     \u001b[0mouttime\u001b[0m\u001b[0;34m=\u001b[0m\u001b[0;34m''\u001b[0m\u001b[0;34m.\u001b[0m\u001b[0mjoin\u001b[0m\u001b[0;34m(\u001b[0m\u001b[0mx\u001b[0m\u001b[0;34m)\u001b[0m\u001b[0;34m\u001b[0m\u001b[0;34m\u001b[0m\u001b[0m\n\u001b[1;32m    296\u001b[0m     \u001b[0;32mif\u001b[0m \u001b[0mrst\u001b[0m\u001b[0;34m:\u001b[0m\u001b[0;34m\u001b[0m\u001b[0;34m\u001b[0m\u001b[0m\n\u001b[0;32m--> 297\u001b[0;31m         \u001b[0mstarttime\u001b[0m\u001b[0;34m=\u001b[0m\u001b[0mncd\u001b[0m\u001b[0;34m.\u001b[0m\u001b[0mSTART_DATE\u001b[0m\u001b[0;34m\u001b[0m\u001b[0;34m\u001b[0m\u001b[0m\n\u001b[0m\u001b[1;32m    298\u001b[0m     \u001b[0;32melse\u001b[0m\u001b[0;34m:\u001b[0m\u001b[0;34m\u001b[0m\u001b[0;34m\u001b[0m\u001b[0m\n\u001b[1;32m    299\u001b[0m         \u001b[0mstarttime\u001b[0m\u001b[0;34m=\u001b[0m\u001b[0mncd\u001b[0m\u001b[0;34m.\u001b[0m\u001b[0mSIMULATION_START_DATE\u001b[0m\u001b[0;34m\u001b[0m\u001b[0;34m\u001b[0m\u001b[0m\n",
      "\u001b[0;31mKeyboardInterrupt\u001b[0m: "
     ]
    }
   ],
   "source": [
    "# 1.  per ensemble. basic hourly stats + key radial profiles\n",
    "dfspath=os.path.join(dfpathroot,'df_' + runsname + '.pkl')\n",
    "dfs=[]\n",
    "        \n",
    "for run in runlist:\n",
    "    print(run)\n",
    "    wolist=wrf.wolist(run)[:nmax+1]\n",
    "    df=wp.get_run_max_df(wolist,run,force=False)    \n",
    "    df=wp.proc_precip(df)    \n",
    "    dfs.append(df)\n",
    "    \n",
    "dfa=pd.concat(dfs).reset_index(drop=True)\n",
    "sname=os.path.join(dfpathroot,'df_' + runsname + '.pkl')\n",
    "dfa.to_pickle(dfspath,protocol=4)"
   ]
  },
  {
   "cell_type": "code",
   "execution_count": 17,
   "metadata": {},
   "outputs": [],
   "source": [
    "# 2. interpolate and differencing to get get intermediate steps (offset by half hour)\n",
    "importlib.reload(wp)\n",
    "dfpath=os.path.join(dfpathroot,'df_' + runsname + '.pkl')\n",
    "dfspath=os.path.join(dfpathroot,'df_' + runsname + '_delta.pkl')\n",
    "\n",
    "df=pd.read_pickle(dfpath)\n",
    "tlfs=df.tlf.unique()\n",
    "dfl=[]\n",
    "for tlf in tlfs:\n",
    "    dft=df[df.tlf.eq(tlf)].reset_index(drop=True) #indexing from 0 is used in create_delta_df\n",
    "    dfl.append(wp.create_delta_df(dft)[1:]) #first row of diffs is nans\n",
    "    \n",
    "dfa=pd.concat(dfl).reset_index(drop=True)\n",
    "dfa.to_pickle(dfspath,protocol=4)"
   ]
  },
  {
   "cell_type": "code",
   "execution_count": 18,
   "metadata": {},
   "outputs": [],
   "source": [
    "# 3. tabulated intermediate steps, each radial coord now has a row, \n",
    "# for simpler filtering\n",
    "importlib.reload(wp)\n",
    "dfpath=os.path.join(dfpathroot,'df_' + runsname + '_delta.pkl')\n",
    "dfspath=os.path.join(dfpathroot,'df_'+runsname+'_delta_tab.pkl')\n",
    "\n",
    "df=pd.read_pickle(dfpath)\n",
    "dfn=wp.tabulate_df_ens([df],200)\n",
    "dfn.to_pickle(dfspath,protocol=4) "
   ]
  },
  {
   "cell_type": "code",
   "execution_count": null,
   "metadata": {},
   "outputs": [],
   "source": [
    "dfspath"
   ]
  },
  {
   "cell_type": "code",
   "execution_count": null,
   "metadata": {},
   "outputs": [],
   "source": []
  }
 ],
 "metadata": {
  "kernelspec": {
   "display_name": "Python [conda env:itc]",
   "language": "python",
   "name": "conda-env-itc-py"
  },
  "language_info": {
   "codemirror_mode": {
    "name": "ipython",
    "version": 3
   },
   "file_extension": ".py",
   "mimetype": "text/x-python",
   "name": "python",
   "nbconvert_exporter": "python",
   "pygments_lexer": "ipython3",
   "version": "3.8.5"
  }
 },
 "nbformat": 4,
 "nbformat_minor": 4
}
