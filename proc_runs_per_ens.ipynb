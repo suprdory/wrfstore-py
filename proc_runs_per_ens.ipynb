{
 "cells": [
  {
   "cell_type": "code",
   "execution_count": null,
   "metadata": {},
   "outputs": [],
   "source": [
    "# processing chain, per ensemble\n",
    "# 1. basic hourly stats + key radial profiles. Bespoke precip processing (cumulative to hourly)\n",
    "# 2. interpolate and differencing to get get intermediate steps (offset by half hour)\n",
    "# 3. linearized intermediate steps, each radial coord now has a row, for convenient filtering\n",
    "# 4. decay stats..."
   ]
  },
  {
   "cell_type": "code",
   "execution_count": 4,
   "metadata": {},
   "outputs": [],
   "source": [
    "import os, glob\n",
    "import wrftools as wrf\n",
    "import wrfproc as wp\n",
    "import pandas as pd\n",
    "import numpy as np\n",
    "import importlib\n",
    "importlib.reload(wrf)\n",
    "importlib.reload(wp)\n",
    "\n",
    "dfpathroot='dfs'\n",
    "runpath='../run/'"
   ]
  },
  {
   "cell_type": "code",
   "execution_count": 5,
   "metadata": {},
   "outputs": [
    {
     "data": {
      "text/plain": [
       "['run_02_land_t03',\n",
       " 'run_02_land_t04',\n",
       " 'run_02_land_t05',\n",
       " 'run_02_land_t06',\n",
       " 'run_02_land_t07',\n",
       " 'run_02_land_t08',\n",
       " 'run_02_land_t09',\n",
       " 'run_02_land_t10',\n",
       " 'run_02_land_t11',\n",
       " 'run_02_land_t12',\n",
       " 'run_02_land_t13',\n",
       " 'run_02_land_t14',\n",
       " 'run_02_land_t15']"
      ]
     },
     "execution_count": 5,
     "metadata": {},
     "output_type": "execute_result"
    }
   ],
   "source": [
    "# set up run list, max run length, and run save name\n",
    "\n",
    "runpat='run_02_land_t*'\n",
    "runsname='run_02_land'\n",
    "nmax=24\n",
    "\n",
    "# runpat='run_02_CTRL'\n",
    "# runsname='run_02_CTRL'\n",
    "# nmax=24*15\n",
    "\n",
    "runlist=[os.path.basename(p) for p in sorted(glob.glob(os.path.join(runpath,runpat)))]\n",
    "runlist"
   ]
  },
  {
   "cell_type": "code",
   "execution_count": null,
   "metadata": {},
   "outputs": [],
   "source": [
    "# 1.  per ensemble. basic hourly stats + key radial profiles\n",
    "dfspath=os.path.join(dfpathroot,'df_' + runsname + '.pkl')\n",
    "dfs=[]\n",
    "        \n",
    "for run in runlist:\n",
    "    print(run)\n",
    "    wolist=wrf.wolist(run)[:nmax+1]\n",
    "    df=wp.get_run_max_df(wolist,run,force=False)    \n",
    "    df=wp.proc_precip(df)    \n",
    "    dfs.append(df)\n",
    "    \n",
    "dfa=pd.concat(dfs).reset_index(drop=True)\n",
    "sname=os.path.join(dfpathroot,'df_' + runsname + '.pkl')\n",
    "dfa.to_pickle(dfspath,protocol=4)"
   ]
  },
  {
   "cell_type": "code",
   "execution_count": 19,
   "metadata": {},
   "outputs": [],
   "source": [
    "# 2. interpolate and differencing to get get intermediate steps (offset by half hour)\n",
    "importlib.reload(wp)\n",
    "dfpath=os.path.join(dfpathroot,'df_' + runsname + '.pkl')\n",
    "dfspath=os.path.join(dfpathroot,'df_' + runsname + '_delta.pkl')\n",
    "\n",
    "df=pd.read_pickle(dfpath)\n",
    "tlfs=df.tlf.unique()\n",
    "\n",
    "dfl=[]\n",
    "for tlf in tlfs:\n",
    "    dft=df[df.tlf.eq(tlf)].reset_index(drop=True) #indexing from 0 is used in create_delta_df\n",
    "    dfl.append(wp.create_delta_df(dft)[1:]) #first row of diffs is nans\n",
    "    \n",
    "dfa=pd.concat(dfl).reset_index(drop=True)\n",
    "dfa.to_pickle(dfspath,protocol=4)\n"
   ]
  },
  {
   "cell_type": "code",
   "execution_count": 25,
   "metadata": {},
   "outputs": [],
   "source": [
    "# 3. tabulated intermediate steps, each radial coord now has a row, \n",
    "# for simpler filtering\n",
    "importlib.reload(wp)\n",
    "dfpath=os.path.join(dfpathroot,'df_' + runsname + '_delta.pkl')\n",
    "dfspath=os.path.join(dfpathroot,'df_'+runsname+'_delta_tab.pkl')\n",
    "\n",
    "df=pd.read_pickle(dfpath)\n",
    "dfn=wp.tabulate_df_ens([df],200)\n",
    "dfn.to_pickle(dfspath,protocol=4) "
   ]
  },
  {
   "cell_type": "code",
   "execution_count": 26,
   "metadata": {},
   "outputs": [
    {
     "data": {
      "text/plain": [
       "array([ 0.5,  1.5,  2.5,  3.5,  4.5,  5.5,  6.5,  7.5,  8.5,  9.5, 10.5,\n",
       "       11.5, 12.5, 13.5, 14.5, 15.5, 16.5, 17.5, 18.5, 19.5, 20.5, 21.5,\n",
       "       22.5, 23.5])"
      ]
     },
     "execution_count": 26,
     "metadata": {},
     "output_type": "execute_result"
    }
   ],
   "source": [
    "# (df[df.tlf==2.].t.unique()-2)*24"
   ]
  },
  {
   "cell_type": "code",
   "execution_count": null,
   "metadata": {},
   "outputs": [],
   "source": []
  }
 ],
 "metadata": {
  "kernelspec": {
   "display_name": "Python [conda env:itc]",
   "language": "python",
   "name": "conda-env-itc-py"
  },
  "language_info": {
   "codemirror_mode": {
    "name": "ipython",
    "version": 3
   },
   "file_extension": ".py",
   "mimetype": "text/x-python",
   "name": "python",
   "nbconvert_exporter": "python",
   "pygments_lexer": "ipython3",
   "version": "3.8.5"
  }
 },
 "nbformat": 4,
 "nbformat_minor": 4
}
