{
 "cells": [
  {
   "cell_type": "markdown",
   "metadata": {
    "jupyter": {
     "source_hidden": true
    },
    "tags": []
   },
   "source": [
    "<font size=\"4\">\n",
    "$\\frac{dP}{dt} = -V_r \\frac{dP}{dr} - P \\frac{dV_r}{dr} - \\frac{PV_r}{r} =$ adv + div + geo\n",
    "\n",
    "    \n",
    "    \n",
    "$\\frac{dP_0}{dt} = 2P_0\\frac{dv_r}{dr}\\Bigr\\rvert_{r = 0}$\n",
    "\n",
    "$\\frac{dv_r}{dr}\\Bigr\\rvert_{r = 0} \\approx \\frac{v_r(R_{max})}{R_{max}}$\n",
    "\n",
    "$ v_r(R_{max}) = a P_{\\Delta0}$\n",
    "\n",
    "$\\frac{dP_0}{dt} = \\frac{2aP_0(P_e-P_0)}{R_{max}}$\n",
    "\n",
    "$t_{1/2} = \\frac{\\ln{2}R_{max}}{2aP_e}$\n",
    "</font>"
   ]
  },
  {
   "cell_type": "markdown",
   "metadata": {
    "jupyter": {
     "source_hidden": true
    },
    "tags": []
   },
   "source": [
    "<font size=\"5\">\n",
    "$\\frac{dP}{dt} = -V_r \\frac{dP}{dr} - P \\frac{dV_r}{dr} - \\frac{PV_r}{r} =$ adv + div + geo\n",
    "\n",
    "        \n",
    "$\\frac{dP_0}{dt} = -2P_0\\frac{dv_r}{dr}\\Bigr\\rvert_{r = 0}$\n",
    "\n",
    "$\\frac{dv_r}{dr}\\Bigr\\rvert_{r = 0} \\approx \\frac{v_r(R_{max})}{R_{max}}$\n",
    "    \n",
    "$\\hat{P}=\\frac{P_{\\Delta0}}{P_e}$, $P_0 = P_e - P_{\\Delta0}$ \n",
    "\n",
    "$ v_r(R_{max}) = -a \\hat{P}^2$\n",
    "    \n",
    "   \n",
    "$\\frac{d\\hat{P}}{dt}=-k(\\hat{P}^2-\\hat{P}^3), k=\\frac{2a}{R_{max}}$\n",
    "    \n",
    "since $\\hat{P}<< 1$, leading order is:\n",
    "\n",
    "$\\frac{d\\hat{P}}{dt}\\approx-k\\hat{P}^2  $\n",
    "    \n",
    "which gives:\n",
    "    \n",
    "$\\hat{P}(t)=\\frac{1}{kt+\\hat{P_0}^{-1}}$\n",
    "\n",
    "$t_{1/2}=\\frac{R_{max}}{2a\\hat{P_0}}$\n",
    "\n",
    "</font>"
   ]
  },
  {
   "cell_type": "markdown",
   "metadata": {},
   "source": [
    "<font size=\"5\">\n",
    "$\n",
    "    \\frac{dP}{dt} = -V_r \\frac{dP}{dr} - P \\frac{dV_r}{dr} - \\frac{PV_r}{r} = \\textrm{adv + div + geo}\\\\\n",
    "    \\frac{d\\langle P \\rangle_r}{dt}=\\frac{2PV_r}{r}\\\\\n",
    "    V_r=\\frac{d\\langle P \\rangle_r}{dt}\\frac{r}{2P}\\\\    \n",
    "    \\frac{PV_r}{r}\\Bigr\\rvert_{r=0} =  \\lim_{r\\to0} \\frac{1}{2}\\frac{d\\langle P \\rangle_r}{dt} = \\frac{1}{2}\\frac{dP_0}{dt}\\\\\n",
    "    \\frac{dP_0}{dt} = -2P_0\\frac{dV_r}{dr}\\Bigr\\rvert_{r = 0}\\\\\n",
    "    \\frac{dV_r}{dr}\\Bigr\\rvert_{r = 0} \\approx \\frac{V_r(R_{max0})}{R_{max0}}\\\\ \n",
    "    \\hat{P}=\\frac{P_{\\Delta0}}{P_e}, P_0 = P_e - P_{\\Delta0}\\\\\n",
    "    V_r(R_{max0}) = -a \\hat{P}^2/V_{max0}^2\\\\  \n",
    "    \\frac{d\\hat{P}}{dt}=-k(\\hat{P}^2-\\hat{P}^3), k=\\frac{2a}{V_{max0}^2R_{max0}}\\\\  \n",
    "    \\textrm{since } \\hat{P}<< 1, \\textrm{leading order is:}\\\\\n",
    "    \\frac{d\\hat{P}}{dt}\\approx-k\\hat{P}^2  \\\\   \n",
    "    \\textrm{which gives:}\\\\\n",
    "    \\hat{P}(t)=\\frac{1}{kt+\\hat{P_0}^{-1}}\\\\\n",
    "    t_{1/2}=\\frac{V_{max0}^2R_{max0}}{2a\\hat{P_0}}\n",
    "$\n",
    "</font>\n"
   ]
  },
  {
   "cell_type": "markdown",
   "metadata": {},
   "source": []
  }
 ],
 "metadata": {
  "kernelspec": {
   "display_name": "Python [conda env:itc]",
   "language": "python",
   "name": "conda-env-itc-py"
  },
  "language_info": {
   "codemirror_mode": {
    "name": "ipython",
    "version": 3
   },
   "file_extension": ".py",
   "mimetype": "text/x-python",
   "name": "python",
   "nbconvert_exporter": "python",
   "pygments_lexer": "ipython3",
   "version": "3.8.5"
  }
 },
 "nbformat": 4,
 "nbformat_minor": 4
}
