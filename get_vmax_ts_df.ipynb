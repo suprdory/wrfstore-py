{
 "cells": [
  {
   "cell_type": "code",
   "execution_count": 1,
   "metadata": {},
   "outputs": [
    {
     "data": {
      "text/plain": [
       "<module 'wrftools' from '/net/wrfstore6/disk1/nsparks/itc/python/wrftools.py'>"
      ]
     },
     "execution_count": 1,
     "metadata": {},
     "output_type": "execute_result"
    }
   ],
   "source": [
    "# from netCDF4 import Dataset\n",
    "import os, glob\n",
    "# import numpy as np\n",
    "from matplotlib import pyplot as plt\n",
    "import pandas as pd\n",
    "# from datetime import datetime\n",
    "import importlib\n",
    "import wrftools as wrf\n",
    "importlib.reload(wrf)"
   ]
  },
  {
   "cell_type": "code",
   "execution_count": 23,
   "metadata": {},
   "outputs": [],
   "source": [
    "def get_row(fname,run):\n",
    "    V10max,rV10max,zmax,t=wrf.wrf2max(run,fname,'V')\n",
    "    vt10max,rvt10max,zmax,t=wrf.wrf2max(run,fname,'vt')\n",
    "    Pmin,rPmin,Pzmin,t=wrf.wrf2max(run,fname,'P',minim=True)\n",
    "    row = pd.Series({'vt10max':vt10max,'rvt10max':rvt10max,'V10max':V10max,'rV10max':rV10max,'pmin':Pmin},name=t)\n",
    "    return(row)\n",
    "    \n",
    "def get_run_max_df(flist,run):\n",
    "    df = pd.DataFrame(columns=['vt10max','rvt10max','V10max','rV10max','pmin'])\n",
    "    for fname in flist:\n",
    "        print(fname)\n",
    "        df=df.append(get_row(fname,run))\n",
    "    return(df)"
   ]
  },
  {
   "cell_type": "code",
   "execution_count": 24,
   "metadata": {},
   "outputs": [
    {
     "name": "stdout",
     "output_type": "stream",
     "text": [
      "wrfout_d03_2007-09-06_00:00:00\n",
      "wrfout_d03_2007-09-06_01:00:00\n",
      "wrfout_d03_2007-09-06_02:00:00\n",
      "wrfout_d03_2007-09-06_00:00:00\n",
      "wrfout_d03_2007-09-06_01:00:00\n",
      "wrfout_d03_2007-09-06_02:00:00\n",
      "wrfout_d03_2007-09-06_00:00:00\n",
      "wrfout_d03_2007-09-06_01:00:00\n",
      "wrfout_d03_2007-09-06_02:00:00\n",
      "wrfout_d03_2007-09-06_00:00:00\n",
      "wrfout_d03_2007-09-06_01:00:00\n",
      "wrfout_d03_2007-09-06_02:00:00\n",
      "            vt10max   rvt10max     V10max    rV10max        pmin\n",
      "5.000000  56.703236  18.666666  62.549812  21.333332  910.094971\n",
      "5.041667  50.768105  17.333332  56.336411  21.333332  917.755005\n",
      "5.083333  47.055775  17.333332  51.753708  18.666666  927.673218\n",
      "            vt10max   rvt10max     V10max    rV10max        pmin\n",
      "5.000000  56.703236  18.666666  62.549812  21.333332  910.094971\n",
      "5.041667  50.768105  17.333332  56.336411  21.333332  917.755005\n",
      "5.083333  47.055775  17.333332  51.753708  18.666666  927.673218\n"
     ]
    }
   ],
   "source": [
    "dpath='../run'\n",
    "fname='wrfout_d03_*'\n",
    "runlist=['run_land_t06_rr']\n",
    "# tlist=['03','04','05','06','07','08','09','10','11','12','13']\n",
    "# tlist=['12']\n",
    "# tlist=['08']\n",
    "# runlist=['run_land_dry_t' + t + 'rr' for t in tlist]\n",
    "# runlist=['run_CTRL']\n",
    "\n",
    "for r in runlist:\n",
    "    plist_full=sorted(glob.glob(os.path.join(dpath,r,fname)))\n",
    "    plist=plist_full[:3]\n",
    "    flist=[os.path.basename(p) for p in plist]\n",
    "    df=get_run_max_df(flist,r)\n",
    "    df_bf=get_run_max_df_by_f(flist,r)\n",
    "    sname='rundf/df_' + r + '.pkl'\n",
    "print(df)\n",
    "print(df_bf)\n",
    "#     df.to_pickle(sname,protocol=4)"
   ]
  },
  {
   "cell_type": "code",
   "execution_count": null,
   "metadata": {},
   "outputs": [],
   "source": [
    "# dpath='../run'\n",
    "# fname='wrfout_d03_*'\n",
    "# tlist=['03','04','05','06','07','08','09','10','11','12','13']\n",
    "# tlist=['13']\n",
    "# # tlist=['08']\n",
    "# runlist=['run_land_t' + t + '_rr' for t in tlist]\n",
    "\n",
    "\n",
    "# for r in runlist:\n",
    "#     plist_full=sorted(glob.glob(os.path.join(dpath,r,fname)))\n",
    "#     plist=plist_full[:24]\n",
    "#     flist=[os.path.basename(p) for p in plist]\n",
    "#     save_run_max_df(flist,r)"
   ]
  },
  {
   "cell_type": "code",
   "execution_count": null,
   "metadata": {},
   "outputs": [],
   "source": [
    "# dpath='../run'\n",
    "# fname='wrfout_d03_*'\n",
    "# # tlist=['03','04','05','06','07','08','09','10','11','13','15']\n",
    "# tlist=['06']\n",
    "# runlist=['run_land_dry_t' + t + '_QFX' for t in tlist]\n",
    "\n",
    "\n",
    "# for r in runlist:\n",
    "#     plist_full=sorted(glob.glob(os.path.join(dpath,r,fname)))\n",
    "#     plist=plist_full[:24]\n",
    "#     flist=[os.path.basename(p) for p in plist]\n",
    "#     save_run_max_df(flist,r)"
   ]
  },
  {
   "cell_type": "code",
   "execution_count": null,
   "metadata": {},
   "outputs": [],
   "source": [
    "# dpath='../run'\n",
    "# fname='wrfout_d03_*'\n",
    "# # tlist=['03','04','05','06','07','08','09','10','11','13','15']\n",
    "# runlist=['run_land_QFX0_dry']\n",
    "\n",
    "\n",
    "# for r in runlist:\n",
    "#     plist_full=sorted(glob.glob(os.path.join(dpath,r,fname)))\n",
    "#     plist=plist_full[:24]\n",
    "#     flist=[os.path.basename(p) for p in plist]\n",
    "#     save_run_max_df(flist,r)"
   ]
  },
  {
   "cell_type": "code",
   "execution_count": null,
   "metadata": {},
   "outputs": [],
   "source": [
    "# r='run_CTRL_rr'\n",
    "# plist_full=sorted(glob.glob(os.path.join(dpath,r,fname)))\n",
    "# plist=plist_full\n",
    "# flist=[os.path.basename(p) for p in plist]\n",
    "# save_run_max_df(flist,r)"
   ]
  },
  {
   "cell_type": "code",
   "execution_count": null,
   "metadata": {
    "jupyter": {
     "source_hidden": true
    }
   },
   "outputs": [],
   "source": [
    "dd#plt.pcolormesh(x/1000,y/1000,ut);"
   ]
  }
 ],
 "metadata": {
  "kernelspec": {
   "display_name": "Python [conda env:itc]",
   "language": "python",
   "name": "conda-env-itc-py"
  },
  "language_info": {
   "codemirror_mode": {
    "name": "ipython",
    "version": 3
   },
   "file_extension": ".py",
   "mimetype": "text/x-python",
   "name": "python",
   "nbconvert_exporter": "python",
   "pygments_lexer": "ipython3",
   "version": "3.8.5"
  }
 },
 "nbformat": 4,
 "nbformat_minor": 4
}
