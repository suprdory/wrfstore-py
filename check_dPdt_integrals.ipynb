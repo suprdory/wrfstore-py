{
 "cells": [
  {
   "cell_type": "code",
   "execution_count": 80,
   "metadata": {},
   "outputs": [],
   "source": [
    "import numpy as np\n",
    "import matplotlib.pyplot as plt\n",
    "\n",
    "Pd00=10000\n",
    "Pe=100000\n",
    "r0=30000\n",
    "r=np.sqrt(2)*r0\n",
    "r=0.1*r0\n",
    "\n",
    "Pdr0=Pd00*np.exp(-(r**2)/(2*r0**2))\n",
    "# Pr0=Pe-Pdr0\n",
    "a=0.05/(np.sqrt(r0)*(Pd00))\n",
    "alp=1.5*a/np.sqrt(r)*np.exp(r**2/(2*r0**2))"
   ]
  },
  {
   "cell_type": "code",
   "execution_count": 106,
   "metadata": {},
   "outputs": [],
   "source": [
    "# (np.log(P)-np.log(P-Pe))/Pe=alp*t+C\n",
    "\n",
    "dt=60*60\n",
    "maxt=60*60*12\n",
    "t=np.linspace(0,maxt,round(maxt/(dt*1)))\n",
    "thr=t/60/60\n",
    "Pd=np.zeros(len(t))\n",
    "Pd[0]=Pdr0\n",
    "# get numerical integral\n",
    "for i in range(len(t)-1):\n",
    "    dPddt=-alp*Pd[i]*(Pe-Pd[i])\n",
    "    dPd=dPddt*dt\n",
    "    Pd[i+1]=Pd[i]+dPd\n",
    "\n",
    "# approx analytic integral (ignore complex log)\n",
    "Pdi=Pdr0*np.exp(-Pe*alp*t)"
   ]
  },
  {
   "cell_type": "code",
   "execution_count": 107,
   "metadata": {},
   "outputs": [
    {
     "data": {
      "image/png": "[encoded data removed]",
      "text/plain": [
       "<Figure size 432x288 with 1 Axes>"
      ]
     },
     "metadata": {
      "needs_background": "light"
     },
     "output_type": "display_data"
    }
   ],
   "source": [
    "plt.plot(thr,Pd)\n",
    "plt.plot(thr,Pdi)\n",
    "plt.grid(True)"
   ]
  },
  {
   "cell_type": "code",
   "execution_count": 88,
   "metadata": {},
   "outputs": [
    {
     "name": "stderr",
     "output_type": "stream",
     "text": [
      "<ipython-input-88-0cd3490738d5>:1: RuntimeWarning: invalid value encountered in log\n",
      "  np.log(-1)\n"
     ]
    },
    {
     "data": {
      "text/plain": [
       "nan"
      ]
     },
     "execution_count": 88,
     "metadata": {},
     "output_type": "execute_result"
    }
   ],
   "source": [
    "np.log(-1)"
   ]
  },
  {
   "cell_type": "code",
   "execution_count": null,
   "metadata": {},
   "outputs": [],
   "source": []
  }
 ],
 "metadata": {
  "kernelspec": {
   "display_name": "Python [conda env:itc]",
   "language": "python",
   "name": "conda-env-itc-py"
  },
  "language_info": {
   "codemirror_mode": {
    "name": "ipython",
    "version": 3
   },
   "file_extension": ".py",
   "mimetype": "text/x-python",
   "name": "python",
   "nbconvert_exporter": "python",
   "pygments_lexer": "ipython3",
   "version": "3.8.5"
  }
 },
 "nbformat": 4,
 "nbformat_minor": 4
}
