{
 "cells": [
  {
   "cell_type": "code",
   "execution_count": 63,
   "metadata": {},
   "outputs": [],
   "source": [
    "# processing chain\n",
    "# 1. per run. basic hourly stats + key radial profiles\n",
    "# 2. per run, interpolate and differencing to get get intermediate steps (offset by half hour)\n",
    "# 3. per ensemble, linearized intermediate steps, each radial coord now has a row, for convenient filtering\n",
    "# 4. per ensemble, decay stats"
   ]
  },
  {
   "cell_type": "code",
   "execution_count": 69,
   "metadata": {},
   "outputs": [],
   "source": [
    "import os, glob\n",
    "import wrftools as wrf\n",
    "import wrfproc as wp\n",
    "import pandas as pd\n",
    "import numpy as np\n",
    "import importlib\n",
    "importlib.reload(wrf)\n",
    "importlib.reload(wp)\n",
    "\n",
    "dfpathroot='dfs'\n",
    "runpath='../run/'"
   ]
  },
  {
   "cell_type": "code",
   "execution_count": 70,
   "metadata": {},
   "outputs": [
    {
     "data": {
      "text/plain": [
       "['run_land_t03_rr',\n",
       " 'run_land_t04_rr',\n",
       " 'run_land_t05_rr',\n",
       " 'run_land_t06_rr',\n",
       " 'run_land_t07_rr',\n",
       " 'run_land_t08_rr',\n",
       " 'run_land_t09_rr',\n",
       " 'run_land_t10_rr',\n",
       " 'run_land_t11_rr',\n",
       " 'run_land_t12_rr',\n",
       " 'run_land_t13_rr']"
      ]
     },
     "execution_count": 70,
     "metadata": {},
     "output_type": "execute_result"
    }
   ],
   "source": [
    "\n",
    "runpat='run_land_*rr*'\n",
    "runsname='run_land_rr'\n",
    "nmax=12\n",
    "runlist=[os.path.basename(p) for p in sorted(glob.glob(os.path.join(runpath,runpat)))]\n",
    "runlist"
   ]
  },
  {
   "cell_type": "code",
   "execution_count": 17,
   "metadata": {},
   "outputs": [],
   "source": [
    "# 1.  per run. basic hourly stats + key radial profiles\n",
    "for run in runlist:\n",
    "    print(run)\n",
    "    wolist=wrf.wolist(run)[:12]\n",
    "    df=wp.get_run_max_df(wolist,run)\n",
    "    sname=os.path.join(dfpathroot,'df_' + run + '.pkl')\n",
    "#     print(df)\n",
    "    df.to_pickle(sname,protocol=4)"
   ]
  },
  {
   "cell_type": "code",
   "execution_count": 47,
   "metadata": {},
   "outputs": [],
   "source": [
    "# 2. per run, interpolate and differencing to get get intermediate steps (offset by half hour)\n",
    "for run in runlist:\n",
    "    dfpath=os.path.join(dfpathroot,'df_'+run+'.pkl')\n",
    "    spath=os.path.join(dfpathroot,'df_delta_'+run+'.pkl')\n",
    "    df=pd.read_pickle(dfpath)\n",
    "    dfd=wp.create_delta_df(df)\n",
    "    dfd.to_pickle(spath,protocol=4)"
   ]
  },
  {
   "cell_type": "code",
   "execution_count": 66,
   "metadata": {},
   "outputs": [],
   "source": [
    "# 3. per ensemble, tabulated intermediate steps, each radial coord now has a row, for convenient filtering\n",
    "# dfpathlist=[os.path.join(dfpathroot,'df_delta_'+run+'.pkl') for run in runlist]\n",
    "dflist=[]\n",
    "for run in runlist:\n",
    "    dfpath=os.path.join(dfpathroot,'df_delta_'+run+'.pkl')\n",
    "    dflist.append(pd.read_pickle(dfpath))\n",
    "tlfs=np.arange(2,13) "
   ]
  },
  {
   "cell_type": "code",
   "execution_count": 71,
   "metadata": {},
   "outputs": [],
   "source": [
    "dfn=wp.tabulate_df_ens(dflist,tlfs)\n",
    "sname=os.path.join(dfpathroot,'df_tab_'+runsname+'.pkl')\n",
    "dfn.to_pickle(sname,protocol=4) "
   ]
  },
  {
   "cell_type": "code",
   "execution_count": null,
   "metadata": {},
   "outputs": [],
   "source": []
  }
 ],
 "metadata": {
  "kernelspec": {
   "display_name": "Python [conda env:itc]",
   "language": "python",
   "name": "conda-env-itc-py"
  },
  "language_info": {
   "codemirror_mode": {
    "name": "ipython",
    "version": 3
   },
   "file_extension": ".py",
   "mimetype": "text/x-python",
   "name": "python",
   "nbconvert_exporter": "python",
   "pygments_lexer": "ipython3",
   "version": "3.8.5"
  }
 },
 "nbformat": 4,
 "nbformat_minor": 4
}
