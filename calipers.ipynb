{
 "cells": [
  {
   "cell_type": "code",
   "execution_count": 20,
   "metadata": {},
   "outputs": [],
   "source": [
    "from matplotlib import pyplot as plt\n",
    "import numpy as np\n",
    "from scipy import optimize\n",
    "from IPython import display\n",
    "import time"
   ]
  },
  {
   "cell_type": "code",
   "execution_count": 21,
   "metadata": {},
   "outputs": [],
   "source": [
    "# calculates distance matrix from a list of coord tuples\n",
    "def calc_d_mat(cc):\n",
    "    d=np.zeros((len(cc),len(cc)))\n",
    "    for i in range(N):\n",
    "        for j in range(N):\n",
    "            d[i,j]=np.sqrt((cc[i][0]-cc[j][0])**2+(cc[i][1]-cc[j][1])**2)\n",
    "    return(d)\n",
    "\n",
    "# error function compares distance matrix from coord list estimate to target dist mat\n",
    "def error_fun(e_d,t_d):\n",
    "    diff=np.tril(t_d)-np.tril(e_d)\n",
    "    return(sum(sum(diff**2)))\n",
    "\n",
    "# objective function\n",
    "def objfun(x,t_d):\n",
    "    clist=x1d2clist(x)\n",
    "    d=calc_d_mat(clist)\n",
    "    e=error_fun(d,t_d)\n",
    "    return(e)\n",
    "\n",
    "def x1d2clist(x1d):\n",
    "    # turn 1d array into list of tuple coords\n",
    "    xc = x1d[:len(x1d)//2]\n",
    "    yc = x1d[len(x1d)//2:]\n",
    "    clist=list(zip(xc,yc))\n",
    "    return(clist)\n",
    "\n",
    "def clist2x1d(clist):\n",
    "    # turn list of tuple coords into 1d array\n",
    "    estxy=list(zip(*clist))\n",
    "    xe=estxy[0]\n",
    "    ye=estxy[1]\n",
    "    exy=xe+ye\n",
    "    x1d=np.array(exy)\n",
    "    return(x1d)\n",
    "\n",
    "def centreCoM(cc):\n",
    "    # centre list of coords at its CoM \n",
    "    x,y=list(zip(*cc))\n",
    "    xm=np.mean(x)\n",
    "    ym=np.mean(y)\n",
    "    x0=x-xm\n",
    "    y0=y-ym\n",
    "    return(list(zip(x0,y0)))\n",
    "\n",
    "\n",
    "def cc_err(e,t):\n",
    "    er=0\n",
    "    for i in range(len(e)):\n",
    "        er=er+np.sqrt((e[i][0]-t[i][0])**2+(e[i][1]-t[i][1])**2)\n",
    "    return(er)\n",
    "\n",
    "def rot_cc(cc,th):\n",
    "    if type(th)==np.ndarray:\n",
    "        th=th[0]\n",
    "    rotmat=np.array(((np.cos(th),-np.sin(th)),(np.sin(th),np.cos(th))))\n",
    "    cc_r=[np.matmul(rotmat,i).tolist() for i in cc]\n",
    "    return(cc_r)\n",
    "\n",
    "def rot_obj(th,est_cc):\n",
    "    est_cc_r=rot_cc(est_cc,th)\n",
    "    return(cc_err(est_cc_r,target_cc))\n",
    "\n",
    "def match_rot(est_cc):\n",
    "    res=optimize.minimize(rot_obj,0.1,est_cc)\n",
    "    return(rot_cc(est_cc,res.x))"
   ]
  },
  {
   "cell_type": "code",
   "execution_count": 22,
   "metadata": {},
   "outputs": [
    {
     "data": {
      "image/png": "[encoded data removed]",
      "text/plain": [
       "<Figure size 600x600 with 1 Axes>"
      ]
     },
     "metadata": {},
     "output_type": "display_data"
    },
    {
     "name": "stdout",
     "output_type": "stream",
     "text": [
      "Optimization terminated successfully.\n",
      "1.1507492107370873e-11\n",
      "True\n",
      "0\n"
     ]
    }
   ],
   "source": [
    "    \n",
    "# build 2d test data, points on a semicircle\n",
    "N=20\n",
    "r=1\n",
    "th=np.linspace(np.pi,0,N)\n",
    "target_cc=list(zip(r*np.cos(th),r*np.sin(th)))\n",
    "target_cc=centreCoM(target_cc)\n",
    "\n",
    "#ideal obs matrix (used in fitting)\n",
    "target_d=calc_d_mat(target_cc)            \n",
    "\n",
    "#initial state (some curvature is helpful)\n",
    "r=5\n",
    "th=np.linspace(np.pi-np.pi/3,np.pi/3,N)\n",
    "est_cc=list(zip(r*np.cos(th),r*np.sin(th)))\n",
    "\n",
    "# xe=np.linspace(-1,1,N)\n",
    "# ye=np.ones(N)*0.0\n",
    "# est_cc=list(zip(xe,ye))\n",
    "est_cc=centreCoM(est_cc)\n",
    "est_obj_x1d=clist2x1d(est_cc)\n",
    "\n",
    "# plotting\n",
    "fig,ax=plt.subplots(1,1,figsize=(3,3),dpi=200)\n",
    "hdisplay = display.display(\"\", display_id=True)\n",
    "xt,yt=list(zip(*target_cc))\n",
    "ax.plot(xt,yt,'x')\n",
    "xe,ye=list(zip(*est_cc))\n",
    "h=ax.plot(xe,ye,'+')\n",
    "ax.set_xlim((-1.5, 1.5))\n",
    "ax.set_ylim((-1.5, 1.5))\n",
    "\n",
    "# fitting\n",
    "status=1\n",
    "while status>0:\n",
    "    result=optimize.minimize(objfun,est_obj_x1d,target_d,method='CG',options={'maxiter':1})\n",
    "    est_obj_x1d=result.x;\n",
    "    # update figure\n",
    "    optclist=match_rot(centreCoM(x1d2clist(result.x)))\n",
    "    xo,yo=list(zip(*optclist))\n",
    "    h[0].set_xdata(xo)\n",
    "    h[0].set_ydata(yo)\n",
    "    hdisplay.update(fig)\n",
    "\n",
    "    status=result.status\n",
    "plt.close(fig)\n",
    "\n",
    "print(result.message)\n",
    "print(result.fun)\n",
    "print(result.success)\n",
    "print(result.status)"
   ]
  },
  {
   "cell_type": "code",
   "execution_count": null,
   "metadata": {},
   "outputs": [],
   "source": []
  }
 ],
 "metadata": {
  "kernelspec": {
   "display_name": "Python [conda env:itc]",
   "language": "python",
   "name": "conda-env-itc-py"
  },
  "language_info": {
   "codemirror_mode": {
    "name": "ipython",
    "version": 3
   },
   "file_extension": ".py",
   "mimetype": "text/x-python",
   "name": "python",
   "nbconvert_exporter": "python",
   "pygments_lexer": "ipython3",
   "version": "3.8.5"
  }
 },
 "nbformat": 4,
 "nbformat_minor": 4
}
